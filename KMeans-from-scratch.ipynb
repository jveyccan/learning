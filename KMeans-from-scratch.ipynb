{
  "nbformat": 4,
  "nbformat_minor": 0,
  "metadata": {
    "colab": {
      "name": "lab10.ipynb",
      "provenance": [],
      "authorship_tag": "ABX9TyMphEZLIQAayXyDiGZkJ+s6",
      "include_colab_link": true
    },
    "kernelspec": {
      "name": "python3",
      "display_name": "Python 3"
    },
    "language_info": {
      "name": "python"
    }
  },
  "cells": [
    {
      "cell_type": "markdown",
      "metadata": {
        "id": "view-in-github",
        "colab_type": "text"
      },
      "source": [
        "<a href=\"https://colab.research.google.com/github/jveyccan/study-materials/blob/main/KMeans-from-scratch.ipynb\" target=\"_parent\"><img src=\"https://colab.research.google.com/assets/colab-badge.svg\" alt=\"Open In Colab\"/></a>"
      ]
    },
    {
      "cell_type": "code",
      "metadata": {
        "id": "6n5YNcvUsk96"
      },
      "source": [
        "import pandas as pd\n",
        "import numpy as np\n",
        "import random as rd\n",
        "import matplotlib.pyplot as plt"
      ],
      "execution_count": 35,
      "outputs": []
    },
    {
      "cell_type": "code",
      "metadata": {
        "colab": {
          "base_uri": "https://localhost:8080/",
          "height": 204
        },
        "id": "Wmr2B3hJstUe",
        "outputId": "826ef9e0-5a06-4864-ed6e-0d24ec883598"
      },
      "source": [
        "data = pd.read_csv('Income_Data.csv')\n",
        "data.head()\n"
      ],
      "execution_count": 36,
      "outputs": [
        {
          "output_type": "execute_result",
          "data": {
            "text/html": [
              "<div>\n",
              "<style scoped>\n",
              "    .dataframe tbody tr th:only-of-type {\n",
              "        vertical-align: middle;\n",
              "    }\n",
              "\n",
              "    .dataframe tbody tr th {\n",
              "        vertical-align: top;\n",
              "    }\n",
              "\n",
              "    .dataframe thead th {\n",
              "        text-align: right;\n",
              "    }\n",
              "</style>\n",
              "<table border=\"1\" class=\"dataframe\">\n",
              "  <thead>\n",
              "    <tr style=\"text-align: right;\">\n",
              "      <th></th>\n",
              "      <th>Years</th>\n",
              "      <th>Income</th>\n",
              "    </tr>\n",
              "  </thead>\n",
              "  <tbody>\n",
              "    <tr>\n",
              "      <th>0</th>\n",
              "      <td>1.1</td>\n",
              "      <td>39343</td>\n",
              "    </tr>\n",
              "    <tr>\n",
              "      <th>1</th>\n",
              "      <td>1.3</td>\n",
              "      <td>46205</td>\n",
              "    </tr>\n",
              "    <tr>\n",
              "      <th>2</th>\n",
              "      <td>1.5</td>\n",
              "      <td>37731</td>\n",
              "    </tr>\n",
              "    <tr>\n",
              "      <th>3</th>\n",
              "      <td>2.0</td>\n",
              "      <td>43525</td>\n",
              "    </tr>\n",
              "    <tr>\n",
              "      <th>4</th>\n",
              "      <td>2.2</td>\n",
              "      <td>39891</td>\n",
              "    </tr>\n",
              "  </tbody>\n",
              "</table>\n",
              "</div>"
            ],
            "text/plain": [
              "   Years  Income\n",
              "0    1.1   39343\n",
              "1    1.3   46205\n",
              "2    1.5   37731\n",
              "3    2.0   43525\n",
              "4    2.2   39891"
            ]
          },
          "metadata": {
            "tags": []
          },
          "execution_count": 36
        }
      ]
    },
    {
      "cell_type": "code",
      "metadata": {
        "colab": {
          "base_uri": "https://localhost:8080/",
          "height": 279
        },
        "id": "ETN1nPotuHEU",
        "outputId": "1966ae18-3a99-4cd5-80ae-3ad3d133eb76"
      },
      "source": [
        "X = data[[\"Years\",\"Income\"]]\n",
        "#Visualise data points\n",
        "plt.scatter(X[\"Income\"],X[\"Years\"],c='black')\n",
        "plt.xlabel('Income')\n",
        "plt.ylabel('Years')\n",
        "plt.show()"
      ],
      "execution_count": 37,
      "outputs": [
        {
          "output_type": "display_data",
          "data": {
            "image/png": "[encoded data removed]",
            "text/plain": [
              "<Figure size 432x288 with 1 Axes>"
            ]
          },
          "metadata": {
            "tags": [],
            "needs_background": "light"
          }
        }
      ]
    },
    {
      "cell_type": "code",
      "metadata": {
        "colab": {
          "base_uri": "https://localhost:8080/",
          "height": 279
        },
        "id": "jNHMnZ2suWII",
        "outputId": "852de04b-fec9-494e-9be6-87c8e30b70a8"
      },
      "source": [
        "K=3\n",
        "\n",
        "Centroids = (X.sample(n=K))\n",
        "plt.scatter(X[\"Income\"],X[\"Years\"],c='black')\n",
        "plt.scatter(Centroids[\"Income\"],Centroids[\"Years\"],c='red')\n",
        "plt.xlabel('Income')\n",
        "plt.ylabel('Years')\n",
        "plt.show()"
      ],
      "execution_count": 38,
      "outputs": [
        {
          "output_type": "display_data",
          "data": {
            "image/png": "[encoded data removed]",
            "text/plain": [
              "<Figure size 432x288 with 1 Axes>"
            ]
          },
          "metadata": {
            "tags": [],
            "needs_background": "light"
          }
        }
      ]
    },
    {
      "cell_type": "code",
      "metadata": {
        "colab": {
          "base_uri": "https://localhost:8080/"
        },
        "id": "lLWbavj9uq6A",
        "outputId": "10798045-1178-49ad-cb63-c3624bdf8602"
      },
      "source": [
        "diff = 1\n",
        "j=0\n",
        "\n",
        "while(diff!=0):\n",
        "    XD=X\n",
        "    i=1\n",
        "    for index1,row_c in Centroids.iterrows():\n",
        "        ED=[]\n",
        "        for index2,row_d in XD.iterrows():\n",
        "            d1=(row_c[\"Income\"]-row_d[\"Income\"])**2\n",
        "            d2=(row_c[\"Years\"]-row_d[\"Years\"])**2\n",
        "            d=np.sqrt(d1+d2)\n",
        "            ED.append(d)\n",
        "        X[i]=ED\n",
        "        i=i+1\n",
        "\n",
        "    C=[]\n",
        "    for index,row in X.iterrows():\n",
        "        min_dist=row[1]\n",
        "        pos=1\n",
        "        for i in range(K):\n",
        "            if row[i+1] < min_dist:\n",
        "                min_dist = row[i+1]\n",
        "                pos=i+1\n",
        "        C.append(pos)\n",
        "    X[\"Cluster\"]=C\n",
        "    Centroids_new = X.groupby([\"Cluster\"]).mean()[[\"Years\",\"Income\"]]\n",
        "    if j == 0:\n",
        "        diff=1\n",
        "        j=j+1\n",
        "    else:\n",
        "        diff = (Centroids_new['Years'] - Centroids['Years']).sum() + (Centroids_new['Income'] - Centroids['Income']).sum()\n",
        "        print(diff.sum())\n",
        "    Centroids = X.groupby([\"Cluster\"]).mean()[[\"Years\",\"Income\"]]\n"
      ],
      "execution_count": 39,
      "outputs": [
        {
          "output_type": "stream",
          "text": [
            "0.0\n"
          ],
          "name": "stdout"
        }
      ]
    },
    {
      "cell_type": "code",
      "metadata": {
        "colab": {
          "base_uri": "https://localhost:8080/",
          "height": 279
        },
        "id": "9DAB17C8vAfr",
        "outputId": "513d751e-80a5-4311-9c42-581beb8b5c7f"
      },
      "source": [
        "color=['blue','green','black']\n",
        "for k in range(K):\n",
        "    data=X[X[\"Cluster\"]==k+1]\n",
        "    plt.scatter(data[\"Income\"],data[\"Years\"],c=color[k])\n",
        "plt.scatter(Centroids[\"Income\"],Centroids[\"Years\"],c='red')\n",
        "plt.xlabel('Income')\n",
        "plt.ylabel('Years')\n",
        "plt.show()"
      ],
      "execution_count": 40,
      "outputs": [
        {
          "output_type": "display_data",
          "data": {
            "image/png": "[encoded data removed]",
            "text/plain": [
              "<Figure size 432x288 with 1 Axes>"
            ]
          },
          "metadata": {
            "tags": [],
            "needs_background": "light"
          }
        }
      ]
    }
  ]
}