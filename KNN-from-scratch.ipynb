{
  "nbformat": 4,
  "nbformat_minor": 0,
  "metadata": {
    "colab": {
      "name": "Untitled0.ipynb",
      "provenance": [],
      "include_colab_link": true
    },
    "kernelspec": {
      "name": "python3",
      "display_name": "Python 3"
    },
    "language_info": {
      "name": "python"
    }
  },
  "cells": [
    {
      "cell_type": "markdown",
      "metadata": {
        "id": "view-in-github",
        "colab_type": "text"
      },
      "source": [
        "<a href=\"https://colab.research.google.com/github/jveyccan/study-materials/blob/main/KNN-from-scratch.ipynb\" target=\"_parent\"><img src=\"https://colab.research.google.com/assets/colab-badge.svg\" alt=\"Open In Colab\"/></a>"
      ]
    },
    {
      "cell_type": "markdown",
      "metadata": {
        "id": "qYQvl7gd9_lU"
      },
      "source": [
        "Consider the following dataset [Height, Age, weight].\n",
        "\n",
        "[[5, 45, 77], [5.11, 26, 47], [5.6, 30, 55], [5.9, 34, 59], [4.8, 40, 72],[5.8, 36, 60],[5.3, 19, 40],[5.8, 28, 60], [5.5, 23, 45], [5.6, 32, 58]]\n",
        "\n",
        "Implement KNN by defining the functions for Calculating Euclidean Distance, getting Nearest Neighbors and to make predictions or classification.\n",
        "\n",
        "Test Data: [5.5, 38, ?]\n",
        "\n",
        "Note: Don't use any ML Packages , write the code from scratch. You may use standard packages such as numpy, math, statistics, etc."
      ]
    },
    {
      "cell_type": "code",
      "metadata": {
        "id": "OiZbk5B7QK4v"
      },
      "source": [
        ""
      ],
      "execution_count": 26,
      "outputs": []
    },
    {
      "cell_type": "code",
      "metadata": {
        "id": "IUiqVhSM6mvc"
      },
      "source": [
        "from collections import Counter\n",
        "import math"
      ],
      "execution_count": 27,
      "outputs": []
    },
    {
      "cell_type": "markdown",
      "metadata": {
        "id": "91OpuPpKBawC"
      },
      "source": [
        "import necessary libraries"
      ]
    },
    {
      "cell_type": "code",
      "metadata": {
        "id": "OJ7SV60J-4IS"
      },
      "source": [
        "def knn(data, query, k, distance, desiredFunction):\n",
        "    indexDistanceList = []\n",
        "    \n",
        "    for index, array in enumerate(data):\n",
        "        # 1\n",
        "        distanceParam = distance(array[:-1], query)\n",
        "        # 2\n",
        "        indexDistanceList.append((distanceParam, index))\n",
        "    \n",
        "    # 3\n",
        "    sortedIndexDistanceList = sorted(indexDistanceList)\n",
        "    # 4\n",
        "    kNearestArray = sortedIndexDistanceList[:k]\n",
        "    kNearestLabels = [data[i][-1] for distance, i in kNearestArray]\n",
        "\n",
        "\n",
        "    return kNearestArray , desiredFunction(kNearestLabels)\n"
      ],
      "execution_count": 28,
      "outputs": []
    },
    {
      "cell_type": "markdown",
      "metadata": {
        "id": "phMk80iEBf8F"
      },
      "source": [
        "iterating the data list,\n",
        "\n",
        "1. Find the euclidean distance\n",
        "2. Add the distance to an ordered collection\n",
        "3. Sort the collection by increasing order of distance\n",
        "4. Get the first K entries and get the labels\n",
        "\n",
        "\n",
        "For regression use desiredFunction = mean, else for classification use desiredFunction= mode"
      ]
    },
    {
      "cell_type": "code",
      "metadata": {
        "id": "mPfUZTAK_B2v"
      },
      "source": [
        "def mean(labels):\n",
        "    return sum(labels) / len(labels)\n",
        "\n",
        "def mode(labels):\n",
        "    return Counter(labels).most_common(1)[0][0]\n",
        "\n",
        "def euclideanDistance(point1, point2):\n",
        "    distanceSquared = 0\n",
        "    # print (point1, point2)\n",
        "    for i in range(len(point1)):\n",
        "        distanceSquared += math.pow(point1[i] - point2[i], 2)\n",
        "    return math.sqrt(distanceSquared)\n",
        "\n"
      ],
      "execution_count": 29,
      "outputs": []
    },
    {
      "cell_type": "code",
      "metadata": {
        "colab": {
          "base_uri": "https://localhost:8080/"
        },
        "id": "Y98PjXNu-9ok",
        "outputId": "bfbf7a09-f75e-4efc-9cca-86570f3f7c20"
      },
      "source": [
        "def main():\n",
        "\n",
        "    regressionData = [\n",
        "    \t\t\t[5, 45, 77], \n",
        "    \t\t\t[5.11, 26, 47], \n",
        "    \t\t\t[5.6, 30, 55], \n",
        "    \t\t\t[5.9, 34, 59], \n",
        "    \t\t\t[4.8, 40, 72],\n",
        "    \t\t\t[5.8, 36, 60],\n",
        "    \t\t\t[5.3, 19, 40],\n",
        "    \t\t\t[5.8, 28, 60], \n",
        "    \t\t\t[5.5, 23, 45], \n",
        "    \t\t\t[5.6, 32, 58]\n",
        "    \t\t]\n",
        "\n",
        "\n",
        "    \n",
        "    # Question:\n",
        "    regressionQuery = [5.5, 38]\n",
        "\n",
        "\n",
        "    kNN, prediction = knn(\n",
        "        regressionData, regressionQuery, k=5, distance=euclideanDistance, desiredFunction=mean\n",
        "    )\n",
        "    \n",
        "    print(\"weight = \", prediction)\n",
        "\n",
        "   \n",
        "if __name__ == '__main__':\n",
        "    main()"
      ],
      "execution_count": 30,
      "outputs": [
        {
          "output_type": "stream",
          "text": [
            "weight =  65.2\n"
          ],
          "name": "stdout"
        }
      ]
    }
  ]
}