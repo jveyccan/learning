{
  "nbformat": 4,
  "nbformat_minor": 0,
  "metadata": {
    "colab": {
      "name": "Untitled0.ipynb",
      "provenance": [],
      "include_colab_link": true
    },
    "kernelspec": {
      "name": "python3",
      "display_name": "Python 3"
    },
    "language_info": {
      "name": "python"
    }
  },
  "cells": [
    {
      "cell_type": "markdown",
      "metadata": {
        "id": "view-in-github",
        "colab_type": "text"
      },
      "source": [
        "<a href=\"https://colab.research.google.com/github/jveyccan/study-materials/blob/main/KNN-from-scratch.ipynb\" target=\"_parent\"><img src=\"https://colab.research.google.com/assets/colab-badge.svg\" alt=\"Open In Colab\"/></a>"
      ]
    },
    {
      "cell_type": "markdown",
      "metadata": {
        "id": "qYQvl7gd9_lU"
      },
      "source": [
        "Consider the following dataset [Height, Age, weight].\n",
        "\n",
        "[[5, 45, 77], [5.11, 26, 47], [5.6, 30, 55], [5.9, 34, 59], [4.8, 40, 72],[5.8, 36, 60],[5.3, 19, 40],[5.8, 28, 60], [5.5, 23, 45], [5.6, 32, 58]]\n",
        "\n",
        "Implement KNN by defining the functions for Calculating Euclidean Distance, getting Nearest Neighbors and to make predictions or classification.\n",
        "\n",
        "Test Data: [5.5, 38, ?]\n",
        "\n",
        "Note: Don't use any ML Packages , write the code from scratch. You may use standard packages such as numpy, math, statistics, etc."
      ]
    },
    {
      "cell_type": "code",
      "metadata": {
        "id": "IUiqVhSM6mvc"
      },
      "source": [
        "from collections import Counter\n",
        "import math\n",
        "\n",
        "\n",
        "def knn(data, query, k, distance_fn, choice_fn):\n",
        "    neighbor_distances_and_indices = []\n",
        "    \n",
        "    for index, example in enumerate(data):\n",
        "\n",
        "        distance = distance_fn(example[:-1], query)\n",
        "        \n",
        "        neighbor_distances_and_indices.append((distance, index))\n",
        "    \n",
        "\n",
        "    sorted_neighbor_distances_and_indices = sorted(neighbor_distances_and_indices)\n",
        "    \n",
        "    k_nearest_distances_and_indices = sorted_neighbor_distances_and_indices[:k]\n",
        "    \n",
        "    k_nearest_labels = [data[i][-1] for distance, i in k_nearest_distances_and_indices]\n",
        "\n",
        "\n",
        "    return k_nearest_distances_and_indices , choice_fn(k_nearest_labels)\n",
        "\n",
        "def mean(labels):\n",
        "    return sum(labels) / len(labels)\n",
        "\n",
        "def mode(labels):\n",
        "    return Counter(labels).most_common(1)[0][0]\n",
        "\n",
        "def euclidean_distance(point1, point2):\n",
        "    sum_squared_distance = 0\n",
        "    # print (point1, point2)\n",
        "    for i in range(len(point1)):\n",
        "        sum_squared_distance += math.pow(point1[i] - point2[i], 2)\n",
        "    return math.sqrt(sum_squared_distance)\n",
        "\n",
        "\n",
        "def main():\n",
        "    '''\n",
        "    # Regression Data\n",
        "\n",
        "    '''\n",
        "    reg_data = [\n",
        "    \t\t\t[5, 45, 77], \n",
        "    \t\t\t[5.11, 26, 47], \n",
        "    \t\t\t[5.6, 30, 55], \n",
        "    \t\t\t[5.9, 34, 59], \n",
        "    \t\t\t[4.8, 40, 72],\n",
        "    \t\t\t[5.8, 36, 60],\n",
        "    \t\t\t[5.3, 19, 40],\n",
        "    \t\t\t[5.8, 28, 60], \n",
        "    \t\t\t[5.5, 23, 45], \n",
        "    \t\t\t[5.6, 32, 58]\n",
        "    \t\t]\n",
        "\n",
        "\n",
        "    \n",
        "    # Question:\n",
        "    reg_query = [5.5, 38]\n",
        "\n",
        "\n",
        "    reg_k_nearest_neighbors, reg_prediction = knn(\n",
        "        reg_data, reg_query, k=5, distance_fn=euclidean_distance, choice_fn=mean\n",
        "    )\n",
        "    \n",
        "\n",
        "    print(reg_prediction)\n"
      ],
      "execution_count": 13,
      "outputs": []
    }
  ]
}