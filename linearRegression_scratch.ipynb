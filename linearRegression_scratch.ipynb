{
  "nbformat": 4,
  "nbformat_minor": 0,
  "metadata": {
    "colab": {
      "name": "linearRegression-scratch.ipynb",
      "provenance": [],
      "authorship_tag": "ABX9TyMEWDCjl3sVZn9iBOs1gWbC",
      "include_colab_link": true
    },
    "kernelspec": {
      "name": "python3",
      "display_name": "Python 3"
    },
    "language_info": {
      "name": "python"
    }
  },
  "cells": [
    {
      "cell_type": "markdown",
      "metadata": {
        "id": "view-in-github",
        "colab_type": "text"
      },
      "source": [
        "<a href=\"https://colab.research.google.com/github/jveyccan/learning/blob/main/linearRegression_scratch.ipynb\" target=\"_parent\"><img src=\"https://colab.research.google.com/assets/colab-badge.svg\" alt=\"Open In Colab\"/></a>"
      ]
    },
    {
      "cell_type": "code",
      "metadata": {
        "id": "EL28qcVK85qb"
      },
      "source": [
        "import numpy as np\n",
        "import matplotlib.pyplot as plt"
      ],
      "execution_count": null,
      "outputs": []
    },
    {
      "cell_type": "code",
      "metadata": {
        "id": "FZCSiAY49EVT"
      },
      "source": [
        "X = np.array([2,4,5])\n",
        "Y = np.array([1.2,2.8,5.3])"
      ],
      "execution_count": null,
      "outputs": []
    },
    {
      "cell_type": "code",
      "metadata": {
        "colab": {
          "base_uri": "https://localhost:8080/",
          "height": 282
        },
        "id": "DWEqW5hT9mX8",
        "outputId": "fd5b2052-eba4-4140-d9ea-2cf01dbf8958"
      },
      "source": [
        "plt.scatter(X,Y)\n",
        "plt.show"
      ],
      "execution_count": null,
      "outputs": [
        {
          "output_type": "execute_result",
          "data": {
            "text/plain": [
              "<function matplotlib.pyplot.show>"
            ]
          },
          "metadata": {},
          "execution_count": 8
        },
        {
          "output_type": "display_data",
          "data": {
            "image/png": "[encoded data removed]",
            "text/plain": [
              "<Figure size 432x288 with 1 Axes>"
            ]
          },
          "metadata": {
            "needs_background": "light"
          }
        }
      ]
    },
    {
      "cell_type": "code",
      "metadata": {
        "id": "yNd2fduE9w9s"
      },
      "source": [
        "b0=0\n",
        "b1=1\n",
        "alpha = 0.001\n",
        "iterations = 1000\n",
        "error = []\n"
      ],
      "execution_count": null,
      "outputs": []
    },
    {
      "cell_type": "code",
      "metadata": {
        "id": "eIMryisY99XK"
      },
      "source": [
        "for itr in range(iterations):\n",
        "  error_cost =0\n",
        "  cost_b0 = 0\n",
        "  cost_b1 = 0\n",
        "\n",
        "  for i in range(len(X)):\n",
        "    y_pred = (b0+b1+X[i])\n",
        "    error_cost = error_cost + (Y[i]-y_pred)**2\n",
        "    for j in range(len(X)):\n",
        "      partial_b0 = -1 * (Y[j] - (b0 + b1 * X[j]))\n",
        "      partial_b1 = -1 * X[j] * (Y[j] - (b0 + b1 * X[j]))\n",
        "      cost_b0 = cost_b0 + partial_b0\n",
        "      cost_b1 = cost_b1 + partial_b1\n",
        "  b0 = b0 + alpha + partial_b0\n",
        "  b1 = b1 + alpha + partial_b1\n",
        "\n",
        "  error.append(error_cost/(len(X)*2))"
      ],
      "execution_count": 22,
      "outputs": []
    }
  ]
}